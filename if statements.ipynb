{
  "nbformat": 4,
  "nbformat_minor": 0,
  "metadata": {
    "colab": {
      "name": "Untitled1.ipynb",
      "provenance": []
    },
    "kernelspec": {
      "name": "python3",
      "display_name": "Python 3"
    }
  },
  "cells": [
    {
      "cell_type": "code",
      "metadata": {
        "id": "Esn_Yu05eOC-",
        "colab_type": "code",
        "colab": {}
      },
      "source": [
        "try:\n",
        "  x = int(input('enter number:'))\n",
        "  y = 50/x \n",
        "  print(y) \n",
        "except (ValueError,ZeroDivisionError):\n",
        "  print('please enter a number else than 0 ') \n",
        "  x = int(input('enter number:'))\n",
        "  y = 50/x \n",
        "  print(y) "
      ],
      "execution_count": null,
      "outputs": []
    },
    {
      "cell_type": "code",
      "metadata": {
        "id": "FZsqb9O9eaWj",
        "colab_type": "code",
        "colab": {
          "base_uri": "https://localhost:8080/",
          "height": 35
        },
        "outputId": "4b056a4c-649a-4fa2-a12e-b4249101fee4"
      },
      "source": [
        "x=4.7\n",
        "if x>5 :\n",
        "  print('Earthquake is powerful')\n",
        "else:\n",
        "    print ('Earthquake isnot powerful')"
      ],
      "execution_count": 5,
      "outputs": [
        {
          "output_type": "stream",
          "text": [
            "Earthquake isnot powerful\n"
          ],
          "name": "stdout"
        }
      ]
    },
    {
      "cell_type": "code",
      "metadata": {
        "id": "eANF-gjviOHh",
        "colab_type": "code",
        "colab": {
          "base_uri": "https://localhost:8080/",
          "height": 35
        },
        "outputId": "89831de1-af4f-406b-888d-f5821177975b"
      },
      "source": [
        "x=4.7\n",
        "if x>5 :\n",
        "  print('Earthquake is powerful')\n",
        "elif x>2.5 :\n",
        "    print ('Earthquake is moderate')"
      ],
      "execution_count": 7,
      "outputs": [
        {
          "output_type": "stream",
          "text": [
            "Earthquake is moderate\n"
          ],
          "name": "stdout"
        }
      ]
    },
    {
      "cell_type": "code",
      "metadata": {
        "id": "jfKxrsnDisLE",
        "colab_type": "code",
        "colab": {
          "base_uri": "https://localhost:8080/",
          "height": 35
        },
        "outputId": "8c2f00fa-f034-4c8e-a6a1-450535c8f6a8"
      },
      "source": [
        "x=4.7\n",
        "if x>5 :\n",
        "  print('Earthquake is powerful')\n",
        "else:\n",
        "  if x>2.5 and x<5 :\n",
        "    print ('Earthquake is moderate')"
      ],
      "execution_count": 10,
      "outputs": [
        {
          "output_type": "stream",
          "text": [
            "Earthquake is moderate\n"
          ],
          "name": "stdout"
        }
      ]
    },
    {
      "cell_type": "code",
      "metadata": {
        "id": "wiFVmhX0lhs1",
        "colab_type": "code",
        "colab": {
          "base_uri": "https://localhost:8080/",
          "height": 35
        },
        "outputId": "585bf541-924b-4d1d-9540-1e6fd56ed463"
      },
      "source": [
        "x=0\n",
        "if x>5 :\n",
        "  print('Earthquake is powerful')\n",
        "else:\n",
        "   if x>2.5 and x<5 :\n",
        "    print ('Earthquake is moderate')\n",
        "   elif x<2.5 and x>0 :\n",
        "    print ('Earthquake is weak')\n",
        "   else:\n",
        "    print('^_^ there is no earthquake')\n",
        "  "
      ],
      "execution_count": 22,
      "outputs": [
        {
          "output_type": "stream",
          "text": [
            "^_^ there is no earthquake\n"
          ],
          "name": "stdout"
        }
      ]
    },
    {
      "cell_type": "code",
      "metadata": {
        "id": "9oKrsScqiKqu",
        "colab_type": "code",
        "colab": {}
      },
      "source": [
        "x=4.7\n",
        "if x>5 :\n",
        "  print('Earthquake is powerful')"
      ],
      "execution_count": null,
      "outputs": []
    }
  ]
}